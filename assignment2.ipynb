{
 "cells": [
  {
   "cell_type": "markdown",
   "metadata": {},
   "source": [
    "# ASSIGNMENT 2                                                McGill COMP451 - Fall 2022\n",
    "Student name (ID)\n",
    "\n",
    "If you discussed solutions with any of your classmates please list their name here. If you used any external sources also acknowledge them here."
   ]
  },
  {
   "cell_type": "code",
   "execution_count": 1,
   "metadata": {},
   "outputs": [],
   "source": [
    "import numpy as np\n",
    "%matplotlib inline\n",
    "import matplotlib.pyplot as plt \n",
    "from IPython.core.debugger import set_trace #this is used for debugging\n",
    "np.random.seed(1234) "
   ]
  },
  {
   "cell_type": "markdown",
   "metadata": {},
   "source": [
    "## Problem 1. Model Complexity and Bias-Variance Trade-Off (2 pts)\n",
    "Jane works at the emergency room of a hospital and wants to help the triage by training a classifier to help decide the urgency of patient care for incoming patients using multinomial logistic regression. She collects the patient data (blood pressure, temperature etc.) and their classes (urgency levels 1-3) over five days giving her 1000 instances. After training the model on her data, she observes a very high training error of 70%. Her colleague advises her to gather data for more triage patients and retrain the model with at least 10 times more data. Should Jane take her colleague's advice? Justify your answer."
   ]
  },
  {
   "cell_type": "markdown",
   "metadata": {},
   "source": [
    "### Solution\n",
    "No. Her model's performance on train set is very bad which observes a very high trianing error of 70%.This indicates her model has high bias, maybe model she applied is too simple. So, before collect more data, I suggest her to apply a more complex model."
   ]
  },
  {
   "cell_type": "markdown",
   "metadata": {},
   "source": [
    "## Problem 2. Convexity of Logistic Regression's Cost Function (2 pts)\n",
    "As we saw in the class, to fit a logistic regression model to the data $\\mathcal{D} = \\{x^{(1)}, \\ldots, x^{(N)}\\}$, we maximize the **logarithm of the conditional likelihood**:\n",
    "\n",
    "$$\n",
    "LL(w; \\mathcal{D}) = \\sum_n \\log \\mathrm{Bernoulli}(y^{(n)} | \\sigma({w^\\top x^{(n)}} )) = \\sum_n y^{(n)} \\log \\sigma({w^\\top x^{(n)}}) + (1-y^{(n)}) \\log (1-\\sigma(w^\\top {x^{(n)}}))\n",
    "$$\n",
    "by substituting the definition of logistic function in the equation above, and adding a negation we get simplified NLL objective:\n",
    "$$\n",
    "NLL(w) = \\sum_n y^{(n)} \\log(1+e^{-w^\\top x}) + (1-y^{(n)}) \\log(1+e^{w^\\top x})\n",
    "$$\n",
    "\n",
    "**Prove that the function $\\log (1+ e^{a})$ is convex in $a$.** Using the fact that a composition of a convex and a linear function is convex, conclude that the logistic regression's objective above is convex."
   ]
  },
  {
   "cell_type": "markdown",
   "metadata": {},
   "source": [
    "### Solution\n",
    "$$\\log (1+e^{a})=-\\log (\\frac{1}{1+e^{a}})=-\\log (\\frac{1}{1+e^{-a}}e^{-a})=a-\\log (\\frac{1}{1+e^{-a}})$$\n",
    "$$Since \\space f(x)=\\frac{1}{1+e^{-x}}\\space is \\space convex \\space and \\space f(x)=x \\space and \\space f(x)=\\log (x) \\space is \\space linear$$<br>\n",
    "$$a-\\log (\\frac{1}{1+e^{-a}}) \\space is \\space convex$$<br>\n",
    "$$\\log (1+e^{a}) \\space is \\space convex$$"
   ]
  },
  {
   "cell_type": "markdown",
   "metadata": {},
   "source": [
    "## Problem 3. Gradient Calculation (8 pts)\n",
    "In this assignment we want to calculate the gradient for softmax regression, and provide an implementation. This implementation will be used in the next problem for digits classification. \n",
    "\n",
    "### 3.a) Jacobian of the softmax (2 pts)\n",
    "Consider the the softmax function $\\mu_k = \\mathcal{S}(a)[k] = \\frac{e^{a_k}}{\\sum_i e^{a_i}}$. \n",
    "Show that the element (k,j) of its Jacobian is given by \n",
    "$$\\frac{\\partial \\mu_{k}}{\\partial a_j} = \\mu_k (\\delta_{k j} - \\mu_j)$$ \n",
    "where $\\delta_{k,j} = \\mathbb{I}(j = k)$. "
   ]
  },
  {
   "cell_type": "markdown",
   "metadata": {},
   "source": [
    "#### Solution 3.a)\n",
    "$$\\mu_k = \\mathcal{S}(a)[k] = \\frac{e^{a_k}}{\\sum_i e^{a_i}}$$\n",
    "$$\\frac{\\partial \\mu_{k}}{\\partial a_j} = -\\frac{e^{a_k}e^{a_j}}{(\\sum_i e^{a_i})^{2}} = -\\mu_{k}\\frac{e^{a_j}}{\\sum_i e^{a_i}}=-\\mu_{k}\\mu_{j}(j \\neq k)$$\n",
    "$$\\frac{\\partial \\mu_{k}}{\\partial a_j} = \\frac{\\partial \\mu_{k}}{\\partial a_k} = \\frac{e^{a_k}\\sum_i e^{a_i} - e^{a_k}e^{a_k}}{(\\sum_i e^{a_i})^{2}} = \\mu_{k} - \\mu_{k}\\mu_{k}= \\mu_{k} - \\mu_{k}\\mu_{j} =  \\mu_k (\\delta_{k j} - \\mu_j)(j = k)$$\n",
    "$$So \\space \\frac{\\partial \\mu_{k}}{\\partial a_j} = \\mu_k (\\delta_{k j} - \\mu_j)$$ \n",
    "where $\\delta_{k,j} = \\mathbb{I}(j = k)$ $\\delta_{k,j} = \\mathbb{0}(j \\neq k)$. "
   ]
  },
  {
   "cell_type": "markdown",
   "metadata": {},
   "source": [
    "### 3.b) Derivative of the Cost Function (4 pts)\n",
    "Use the above result calculate the derivative of the negative of the average log-likelihood (cross entropy loss) $\\mathcal{L}$ with respect to the weights in softmax regression $\\frac{\\partial \\mathcal{L}}{\\partial w_j}$. For simplicity we ignore the bias parameter. Recall\n",
    "$$\\mathcal{L} = \\frac{1}{N} \\sum_{n=1} \\sum_{c=1} y^{(n)}_c \\log \\mu^{(n)}_c$$\n",
    "where $n$ refers to an instance, and $c$ refers to a class. Here, $y$ is the one-hot encoding of the true label. For derivation you can use the chain rule, that is you need to substitute the equation for each term and simply the following expression.\n",
    "$$\n",
    "\\frac{\\partial \\mathcal{L}}{\\partial W_{d c}} = \n",
    "\\frac{1}{N} \\sum_{n} \\sum_{k} \\frac{\\partial \\mathcal{L}}{\\partial \\mu^{(n)}_k} \\frac{\\partial \\mu^{(n)}_k}{\\partial a^{(n)}_c} \\frac{\\partial a^{(n)}_c}{\\partial W_{d c}}\n",
    "$$\n",
    "where $c$ and $k$ index classes, and $d$ indexes the features."
   ]
  },
  {
   "cell_type": "markdown",
   "metadata": {},
   "source": [
    "#### Solution 3.b)\n",
    "$$\\frac{\\partial \\mathcal{L}}{\\partial \\mu^{(n)}_k}=\\frac{y^{(n)}_k}{\\mu^{(n)}_k}$$\n",
    "$$ \\frac{\\partial \\mu^{(n)}_k}{\\partial a^{(n)}_c} = \\mu^{(n)}_k (\\delta_{k j} - \\mu^{(n)}_c)$$\n",
    "$$\\frac{\\partial a^{(n)}_c}{\\partial W_{d c}}=X_{nd}$$\n",
    "$$\\frac{\\partial \\mathcal{L}}{\\partial W_{d c}} = \n",
    "\\frac{1}{N} \\sum_{n} \\sum_{k} \\frac{\\partial \\mathcal{L}}{\\partial \\mu^{(n)}_k} \\frac{\\partial \\mu^{(n)}_k}{\\partial a^{(n)}_c} \\frac{\\partial a^{(n)}_c}{\\partial W_{d c}}=\\frac{y^{(n)}_k}{\\mu^{(n)}_k}\\mu^{(n)}_k (\\delta_{k j} - \\mu^{(n)}_c)X_{nd}=y^{(n)}_k(\\delta_{k j} - \\mu^{(n)}_c)X_{nd}$$"
   ]
  },
  {
   "cell_type": "markdown",
   "metadata": {},
   "source": [
    "### 3.c) Implementation of the Gradient (2pts) \n",
    "Implement the gradient function above in the code below. Note that the above derivation was for the partial derivative to the element $W_{d c}$ of the $D \\times C$ weight matrix $W$. Below we want the entire gradient, in the form of a matrix, the same shape as $W$. Note that although gradient is generally in the form of a vector, here, for convenience we are keeping its shape the same as the weight matrix, rather than converting it to a vector. Since you are going to use this implementation in the next question, here we provide the mathematical expression for the gradient when using the design matrix $X$, and the one-hot coding of labels $y$:\n",
    "\n",
    "$$\n",
    " g = \\frac{1}{N} X^\\top (\\mathcal{S}(X W) - y) \n",
    "$$\n",
    "\n",
    "Additionally, you can check the correctness of your impelemtation using the method explained in the [optimization tutorial](https://github.com/mravanba/comp451/blob/main/Optimization.ipynb)"
   ]
  },
  {
   "cell_type": "code",
   "execution_count": 2,
   "metadata": {},
   "outputs": [],
   "source": [
    "def softmax(z):\n",
    "    ''' \n",
    "    calculate the softmax function along the last dimension\n",
    "    '''\n",
    "    z0 = np.max(z,-1, keepdims=True) \n",
    "    z_exp = np.exp(z - z0) #to prevent underflow/overflow\n",
    "    p = z_exp / np.sum(z_exp, -1, keepdims=True)\n",
    "    return p\n",
    "\n",
    "def cost(\n",
    "    x, # N x D \n",
    "    yhot, # N x C: one hot coding of the labels\n",
    "    w # D x C\n",
    "        ):\n",
    "    N, D = x.shape                    \n",
    "    p = np.softmax(x @ w)\n",
    "    ce_loss = -np.mean(np.sum(yhot * np.log(p), -1)) # the cost function L discussed above\n",
    "    return ce_loss\n",
    "\n",
    "def gradient(\n",
    "    x, # NxD\n",
    "    yhot, # NxC\n",
    "    w # DxC\n",
    "        ):\n",
    "    # YOUR CODE HERE >>>>>>>>>>>>>>>>>>>\n",
    "    grad = x.T.dot(softmax(x.dot(w)) - yhot) / yhot.shape[0]\n",
    "    # YOUR CODE HERE <<<<<<<<<<<<<<<<<<<\n",
    "    return grad  # D x C matrix: the same shape as the weight matrix w\n"
   ]
  },
  {
   "cell_type": "markdown",
   "metadata": {},
   "source": [
    "## Problem 4. Image Classification using Softmax Regression (8 pts)\n",
    "In this assignment we want to implement softmax regression, including the stochastic gradient descent using momentum to fit the training data. Our training data is in the form of $8x8$ image of digits 0,1,2,...,9. Therefore each input $x$ has 64 features corresponding to pixel values. The input to our classifier is therefore a vector of length 64, and the output is class probabilities. Let's load this dataset and split the data into train and test."
   ]
  },
  {
   "cell_type": "code",
   "execution_count": 3,
   "metadata": {},
   "outputs": [
    {
     "data": {
      "image/png": "[encoded data removed]",
      "text/plain": [
       "<Figure size 2000x20000 with 40 Axes>"
      ]
     },
     "metadata": {},
     "output_type": "display_data"
    }
   ],
   "source": [
    "from sklearn.datasets import load_digits\n",
    "from mpl_toolkits.axes_grid1 import ImageGrid                         #To plot the images in grid and we have seen it befoer \n",
    "\n",
    "x, y = load_digits(return_X_y=True)\n",
    "split = (80,20) # percentage for train, and test split\n",
    "n = x.shape[0]\n",
    "n_tr, n_ts = n*split[0]//100, n*split[1]//100\n",
    "x_tr, x_ts = x[:n_tr], x[n_tr:n_tr+n_ts] \n",
    "y_tr, y_ts = y[:n_tr], y[n_tr:n_tr+n_ts] \n",
    "\n",
    "def plot_digits(x,y):\n",
    "    num_plots = x.shape[0]\n",
    "    fig = plt.figure(figsize=(num_plots, 10.*num_plots))\n",
    "    grid = ImageGrid(fig, 111, nrows_ncols=(1, num_plots), axes_pad=0.1)\n",
    "    for i in range(num_plots):\n",
    "        grid[i].imshow(x[i].reshape((8,8)))\n",
    "        grid[i].set_title(str(y[i]))\n",
    "    plt.show()\n",
    "plot_digits(x[:20], y[:20])  #plot 20 first instances in the dataset "
   ]
  },
  {
   "cell_type": "markdown",
   "metadata": {},
   "source": [
    "### 4-a) Gradient Descent with Momentum (4pts)\n",
    "Below you need to complete the implementation of the gradient descent using momentum. We have a class that records hyper-parameters of the optimization including learning rate and momentum parameter, as well as the gradient function `grad_fn`. Each call to the step function should update the input weight `w` by calculating the gradient and using the exponential running average of the past gradients that is stored in `m`. The updated weight `wp` is returned by the `step` method."
   ]
  },
  {
   "cell_type": "code",
   "execution_count": 4,
   "metadata": {},
   "outputs": [],
   "source": [
    "class MomentumOpt:\n",
    "    '''\n",
    "    Implements the method of momentum for linear regression and classification.\n",
    "    Each step takes the gradient function and its arguments, including w_{t} as input, \n",
    "    updates the exponential running average of gradients and returns w_{t+1}.\n",
    "    '''\n",
    "    def __init__(self, grad_fn, learning_rate=.001, beta = .95):\n",
    "        self.grad_fn = grad_fn # the gradient function: grad_fn(x,y, w)\n",
    "        self.learning_rate = learning_rate\n",
    "        self.beta = beta\n",
    "        self.m = None #the exponential running average of gradients\n",
    "            \n",
    "    def step(\n",
    "        self, \n",
    "        x, # N x D \n",
    "        yhot, # N x C\n",
    "        w # D+1 is the w at current time step. The first element w_0 is the bias and the rest are the weights \n",
    "        ):\n",
    "        # YOUR CODE HERE >>>>>>>>>>\n",
    "        grad = self.grad_fn(x, yhot, w)\n",
    "        if self.m is not None:\n",
    "            m_grad = self.beta * self.m + (1 - self.beta) * grad\n",
    "        else:\n",
    "            m_grad = grad\n",
    "        self.m = m_grad\n",
    "        wp = w - self.learning_rate * m_grad\n",
    "        # YOUR CODE HERE <<<<<<<<<<<\n",
    "        return wp #new updated weight"
   ]
  },
  {
   "cell_type": "markdown",
   "metadata": {},
   "source": [
    "### 4-b) Training Using Mini-Batch of Data (4pts)\n",
    "Now, we are ready to implement the `SoftmaxRegression` class. As before, we have two methods, `fit`, which fits the training data by finding the model parameter `w` that minimizes the empirical risk, and the `predict` method which produces class probabilities for a given input.\n",
    "\n",
    "Here, for the training we want to use mini-batch of size `minibatch`. Each gradient step that is performed using the optimizer `step` function that you previously implemented, should therefore use a minibatch rather than the entire trainin data for its calculations. When training using mini-batch we use the term `epoch` rather than *iteration* to refer to several iterations using mini-batch that covers the entire training data once. In the implementation below you need to add the steps necessary to update the model parameter using a mini-batch of the data."
   ]
  },
  {
   "cell_type": "code",
   "execution_count": 5,
   "metadata": {},
   "outputs": [],
   "source": [
    "def onehot(x, C=None): \n",
    "    if C is None:\n",
    "        C = np.max(x) + 1\n",
    "    N = x.shape[0]\n",
    "    x_hot = np.zeros((N,C))\n",
    "    x_hot[np.arange(N), x] = 1 #use the value of x to index the last dimension\n",
    "    return x_hot \n",
    "\n",
    "class SoftmaxRegression:\n",
    "\n",
    "    def __init__(self, max_epochs = 1000, eps = 1e-3, minibatch=64):\n",
    "        self.max_epochs = max_epochs \n",
    "        self.eps = eps\n",
    "        self.b = minibatch\n",
    "        self.w = None # weights\n",
    "\n",
    "    def fit(self, x, y, optimizer):\n",
    "        yhot = onehot(y)\n",
    "        D, C = x_tr.shape[1], yhot.shape[1] \n",
    "        self.w = np.zeros((D,C))        \n",
    "        for epoch in range(self.max_epochs): \n",
    "            w_old = self.w\n",
    "            for i in range(n_tr//self.b): # update the weights using i'th mini-batch\n",
    "                #YOUR CODE HERE >>>>>>>>>>>>>>>>>>>>\n",
    "                self.w = optimizer.step(x[i*self.b: (i+1)*self.b, :], yhot[i*self.b: (i+1)*self.b, :], self.w)\n",
    "                #YOUR CODE HERE <<<<<<<<<<<<<<<<<<<\n",
    "            if np.linalg.norm(self.w - w_old) < self.eps: # check for convergence\n",
    "                print(f'converged after {epoch} epochs!')\n",
    "                break\n",
    "        return self\n",
    "\n",
    "    def predict(self, x):\n",
    "        p = softmax(x @ self.w)  #predict probabilities \n",
    "        return p"
   ]
  },
  {
   "cell_type": "markdown",
   "metadata": {},
   "source": [
    "Next, print the training and test accuracy of the model using default hyper-parameters. Plot the confusion matrix on the test set (using either `scikit-learn` implementation or the one provided in the [Model Selection Tutorial](https://github.com/mravanba/comp451/blob/main/ModelSelection.ipynb), and briefly explain what it tells you about the mistakes of the model."
   ]
  },
  {
   "cell_type": "code",
   "execution_count": 6,
   "metadata": {},
   "outputs": [
    {
     "name": "stdout",
     "output_type": "stream",
     "text": [
      "converged after 514 epochs!\n"
     ]
    },
    {
     "data": {
      "image/png": "[encoded data removed]",
      "text/plain": [
       "<Figure size 480x480 with 2 Axes>"
      ]
     },
     "metadata": {},
     "output_type": "display_data"
    },
    {
     "name": "stdout",
     "output_type": "stream",
     "text": [
      "training accuracy: 0.9972164231036882 \n",
      "test accuracy 0.9136490250696379\n"
     ]
    }
   ],
   "source": [
    "# YOUR CODE HERE >>>>>>>>>>>>>>>>>>>>>>\n",
    "from sklearn.metrics import confusion_matrix, accuracy_score\n",
    "model = SoftmaxRegression()\n",
    "optimizer = MomentumOpt(grad_fn=gradient)\n",
    "model.fit(x_tr, y_tr, optimizer)\n",
    "tr_preds = np.argmax(model.predict(x_tr), axis=1)\n",
    "ts_preds = np.argmax(model.predict(x_ts), axis=1)\n",
    "acc_tr = accuracy_score(tr_preds, y_tr)\n",
    "acc_ts = accuracy_score(ts_preds, y_ts)\n",
    "conf_mat = confusion_matrix(ts_preds, y_ts)\n",
    "plt.matshow(conf_mat, interpolation='nearest')\n",
    "plt.colorbar()\n",
    "plt.show()\n",
    "# YOUR CODE HERE <<<<<<<<<<<<<<<<<<<<<< \n",
    "print(f'training accuracy: {acc_tr} \\ntest accuracy {acc_ts}')"
   ]
  },
  {
   "cell_type": "markdown",
   "metadata": {},
   "source": [
    "### Solution\n"
   ]
  },
  {
   "cell_type": "markdown",
   "metadata": {},
   "source": [
    "The performance gap between the model in the training set and the test set is relatively large, with an accuracy difference of 8 points, which may be due to the overfitting of the model in the training process."
   ]
  }
 ],
 "metadata": {
  "kernelspec": {
   "display_name": "Python 3 (ipykernel)",
   "language": "python",
   "name": "python3"
  },
  "language_info": {
   "codemirror_mode": {
    "name": "ipython",
    "version": 3
   },
   "file_extension": ".py",
   "mimetype": "text/x-python",
   "name": "python",
   "nbconvert_exporter": "python",
   "pygments_lexer": "ipython3",
   "version": "3.10.6"
  },
  "vscode": {
   "interpreter": {
    "hash": "b0fa6594d8f4cbf19f97940f81e996739fb7646882a419484c72d19e05852a7e"
   }
  }
 },
 "nbformat": 4,
 "nbformat_minor": 4
}
